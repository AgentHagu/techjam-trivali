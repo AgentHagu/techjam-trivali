{
 "cells": [
  {
   "cell_type": "code",
   "execution_count": 1,
   "id": "f93057c3",
   "metadata": {},
   "outputs": [],
   "source": [
    "# %pip install --quiet --upgrade langchain-text-splitters langchain-community langgraph\n",
    "# %pip install -qU \"langchain[openai]\"\n",
    "# %pip install -qU langchain-openai\n",
    "# %pip install -qU langchain-core"
   ]
  },
  {
   "cell_type": "code",
   "execution_count": 2,
   "id": "a725f239-86b5-4d9c-b592-987520eb2ce8",
   "metadata": {},
   "outputs": [],
   "source": [
    "import os\n",
    "from dotenv import load_dotenv\n",
    "\n",
    "load_dotenv()\n",
    "\n",
    "os.environ[\"LANGSMITH_TRACING\"] = \"true\"\n",
    "os.environ[\"LANGSMITH_API_KEY\"] = os.getenv(\"LANGSMITH_API_KEY\")"
   ]
  },
  {
   "cell_type": "code",
   "execution_count": 3,
   "id": "74220954-0d45-4bca-a5dd-64b02e95ab0d",
   "metadata": {},
   "outputs": [],
   "source": [
    "import os\n",
    "from dotenv import load_dotenv\n",
    "\n",
    "load_dotenv()\n",
    "\n",
    "if not os.environ.get(\"AZURE_OPENAI_API_KEY\"):\n",
    "  os.environ[\"AZURE_OPENAI_API_KEY\"] = os.getenv(\"AZURE_OPENAI_API_KEY\")\n",
    "\n",
    "from langchain_openai import AzureChatOpenAI\n",
    "\n",
    "llm = AzureChatOpenAI(\n",
    "    azure_endpoint=os.environ[\"AZURE_OPENAI_CHAT_ENDPOINT\"],\n",
    "    azure_deployment=os.environ[\"AZURE_OPENAI_CHAT_DEPLOYMENT_NAME\"],\n",
    "    openai_api_version=os.environ[\"AZURE_OPENAI_CHAT_API_VERSION\"],\n",
    ")"
   ]
  },
  {
   "cell_type": "code",
   "execution_count": 4,
   "id": "574f6cec",
   "metadata": {},
   "outputs": [],
   "source": [
    "import os\n",
    "from dotenv import load_dotenv\n",
    "\n",
    "load_dotenv()\n",
    "\n",
    "if not os.environ.get(\"AZURE_OPENAI_API_KEY\"):\n",
    "  os.environ[\"AZURE_OPENAI_API_KEY\"] = os.getenv(\"AZURE_OPENAI_API_KEY\")\n",
    "\n",
    "from langchain_openai import AzureOpenAIEmbeddings\n",
    "\n",
    "embeddings = AzureOpenAIEmbeddings(\n",
    "    azure_endpoint=os.environ[\"AZURE_OPENAI_EMBEDDINGS_ENDPOINT\"],\n",
    "    azure_deployment=os.environ[\"AZURE_OPENAI_EMBEDDINGS_DEPLOYMENT_NAME\"],\n",
    "    openai_api_version=os.environ[\"AZURE_OPENAI_EMBEDDINGS_API_VERSION\"],\n",
    ")"
   ]
  },
  {
   "cell_type": "code",
   "execution_count": 5,
   "id": "735e8586",
   "metadata": {},
   "outputs": [],
   "source": [
    "from langchain_core.vectorstores import InMemoryVectorStore\n",
    "\n",
    "vector_store = InMemoryVectorStore(embeddings)"
   ]
  },
  {
   "cell_type": "code",
   "execution_count": null,
   "id": "1599d1f0",
   "metadata": {},
   "outputs": [],
   "source": [
    "import bs4\n",
    "from langchain import hub\n",
    "from langchain_community.document_loaders import WebBaseLoader\n",
    "from langchain_core.documents import Document\n",
    "from langchain_text_splitters import RecursiveCharacterTextSplitter\n",
    "from langgraph.graph import START, StateGraph\n",
    "from typing_extensions import List, TypedDict\n",
    "from langchain_core.prompts import PromptTemplate\n",
    "\n",
    "url_class_map = {\n",
    "    # Data Security Act\n",
    "    \"https://eur-lex.europa.eu/legal-content/EN/TXT/?uri=CELEX%3A32022R2065\": {\"label\": \"EU Data Security Act\", \"classes\": \"MainContent\"},\n",
    "    # California State Law\n",
    "    \"https://leginfo.legislature.ca.gov/faces/billTextClient.xhtml?bill_id=202320240SB976\": {\"label\": \"California State Law\", \"classes\": \"tab_content\"},\n",
    "    # Florida State Law\n",
    "    \"https://www.flsenate.gov/Session/Bill/2024/3/BillText/Filed/PDF\": {\"label\": \"Florida State law\", \"classes\": \"textLayer\"},\n",
    "    # US law on reporting child sexual abuse content to NCMEC\n",
    "    \"https://www.law.cornell.edu/uscode/text/18/2258A\": {\"label\": \"US law on reporting child sexual abuse content to NCMEC\", \"classes\": \"text\"}\n",
    "}\n",
    "\n",
    "def load_with_per_url_classes(url_class_map):\n",
    "    docs = []\n",
    "    for url, cfg in url_class_map.items():\n",
    "        label = cfg[\"label\"]\n",
    "        classes = cfg[\"classes\"]\n",
    "        \n",
    "        loader = WebBaseLoader(\n",
    "            web_paths=[url],\n",
    "            bs_kwargs=dict(parse_only=bs4.SoupStrainer(class_=classes))\n",
    "        )\n",
    "\n",
    "        loader_docs = loader.load()\n",
    "        for doc in loader_docs:\n",
    "            doc.metadata[\"source\"] = label\n",
    "            doc.metadata[\"url\"] = url\n",
    "        docs += loader_docs\n",
    "    return docs\n",
    "\n",
    "# Load and chunk contents of the blog\n",
    "# loader = WebBaseLoader(\n",
    "#     web_paths=(\"https://leginfo.legislature.ca.gov/faces/billTextClient.xhtml?bill_id=202320240SB976\",),\n",
    "#     bs_kwargs=dict(\n",
    "#         parse_only=bs4.SoupStrainer(\n",
    "#             class_=(\"tab_content\")\n",
    "#         )\n",
    "#     ),\n",
    "# )\n",
    "# docs = loader.load()\n",
    "docs = load_with_per_url_classes(url_class_map)\n",
    "\n",
    "text_splitter = RecursiveCharacterTextSplitter(chunk_size=1000, chunk_overlap=200)\n",
    "all_splits = text_splitter.split_documents(docs)\n",
    "\n",
    "# Index chunks\n",
    "_ = vector_store.add_documents(documents=all_splits)\n",
    "\n",
    "# Define prompt for question-answering\n",
    "# N.B. for non-US LangSmith endpoints, you may need to specify\n",
    "# api_url=\"https://api.smith.langchain.com\" in hub.pull.\n",
    "template = \"\"\"Use the following pieces of context to answer the question at the end.\n",
    "If you don't know the answer, just say that you don't know, don't try to make up an answer.\n",
    "Use three sentences maximum and keep the answer as concise as possible.\n",
    "Always say \"thanks for asking!\" at the end of the answer.\n",
    "\n",
    "{context}\n",
    "\n",
    "Question: {question}\n",
    "\n",
    "Helpful Answer:\"\"\"\n",
    "prompt = PromptTemplate.from_template(template)\n",
    "\n",
    "# prompt = hub.pull(\"rlm/rag-prompt\")\n",
    "\n",
    "\n",
    "# Define state for application\n",
    "class State(TypedDict):\n",
    "    question: str\n",
    "    context: List[Document]\n",
    "    answer: str\n",
    "\n",
    "\n",
    "# Define application steps\n",
    "def retrieve(state: State):\n",
    "    retrieved_docs = vector_store.similarity_search(state[\"question\"])\n",
    "    return {\"context\": retrieved_docs}\n",
    "\n",
    "\n",
    "def generate(state: State):\n",
    "    docs_content = \"\\n\\n\".join(doc.page_content for doc in state[\"context\"])\n",
    "    messages = prompt.invoke({\"question\": state[\"question\"], \"context\": docs_content})\n",
    "    response = llm.invoke(messages)\n",
    "    return {\"answer\": response.content}\n",
    "\n",
    "\n",
    "# Compile application and test\n",
    "graph_builder = StateGraph(State).add_sequence([retrieve, generate])\n",
    "graph_builder.add_edge(START, \"retrieve\")\n",
    "graph = graph_builder.compile()"
   ]
  },
  {
   "cell_type": "code",
   "execution_count": 24,
   "id": "ed5a74be",
   "metadata": {},
   "outputs": [
    {
     "name": "stdout",
     "output_type": "stream",
     "text": [
      "Answer: I don't know. Thanks for asking!\n"
     ]
    }
   ],
   "source": [
    "response = graph.invoke({\"question\": \"What is the Data Security Act\"})\n",
    "print(f\"Answer: {response['answer']}\")\n",
    "# print(response[\"answer\"])"
   ]
  },
  {
   "cell_type": "code",
   "execution_count": 8,
   "id": "8f6ad053",
   "metadata": {},
   "outputs": [
    {
     "name": "stdout",
     "output_type": "stream",
     "text": [
      "Answer: The bill, Senate Bill 976, mandates the Attorney General of California to enforce regulations aimed at protecting minors from addictive features on social media platforms by ensuring parental consent is obtained for users under 18. It requires annual disclosures from operators about minor users and parental consent status. Furthermore, the bill emphasizes public feedback on regulations while allowing exceptions that align with the protection of minors.\n",
      "Answer: The provided context discusses regulations regarding internet-based services and applications, particularly concerning users who are minors. Operators must not send notifications to minors during specified hours unless they have verifiable parental consent. Additionally, any information collected for age verification must be used solely for compliance and deleted after use.\n",
      "Answer: The retrieved context does not provide specific details about the feature that reads user location to enforce France's copyright rules. Therefore, it is unclear whether this feature complies with the policies in the bill, as there is no mention of location-based enforcement or its alignment with privacy and accessibility standards within the provided context. Thus, I cannot definitively answer if the feature complies with the policies in the bill.\n",
      "Answer: The text discusses the use of social media among teens in California, noting that a significant majority engage with these platforms frequently. It highlights concerns about addictive features in some social media, particularly those driven by algorithmic delivery. The legislation aims to address these issues, acknowledging the importance of social media while also recognizing potential dangers.\n"
     ]
    }
   ],
   "source": [
    "while True:\n",
    "    question = input(\"\\nEnter your question (or 'exit' to quit): \")\n",
    "    if question.lower() == 'exit':\n",
    "        break\n",
    "    response = graph.invoke({\"question\": question})\n",
    "    print(f\"Answer: {response['answer']}\")"
   ]
  },
  {
   "cell_type": "code",
   "execution_count": 9,
   "id": "21497556",
   "metadata": {},
   "outputs": [],
   "source": [
    "# from IPython.display import Image, display\n",
    "\n",
    "# display(Image(graph.get_graph().draw_mermaid_png()))"
   ]
  }
 ],
 "metadata": {
  "kernelspec": {
   "display_name": "base",
   "language": "python",
   "name": "python3"
  },
  "language_info": {
   "codemirror_mode": {
    "name": "ipython",
    "version": 3
   },
   "file_extension": ".py",
   "mimetype": "text/x-python",
   "name": "python",
   "nbconvert_exporter": "python",
   "pygments_lexer": "ipython3",
   "version": "3.12.7"
  }
 },
 "nbformat": 4,
 "nbformat_minor": 5
}
